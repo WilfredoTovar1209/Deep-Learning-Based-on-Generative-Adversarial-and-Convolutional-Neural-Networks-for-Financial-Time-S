{
  "nbformat": 4,
  "nbformat_minor": 0,
  "metadata": {
    "colab": {
      "name": "Wilfredo LSTM.ipynb",
      "provenance": []
    },
    "kernelspec": {
      "name": "python3",
      "display_name": "Python 3"
    }
  },
  "cells": [
    {
      "cell_type": "code",
      "metadata": {
        "id": "fKk5ZmMoto5N",
        "colab_type": "code",
        "colab": {
          "base_uri": "https://localhost:8080/",
          "height": 87
        },
        "outputId": "4662d43a-7479-494c-d7d4-7e8ff966d917"
      },
      "source": [
        "#Summary: The project implemented Hybrid Long Short Term Memory (LSTM) to prognosticate the closing stock price on\n",
        "#short intervals. The company for evaluation is Air Canada on (TSX), Canadian market.\n",
        "\n",
        "# Wilfredo Tovar Hidalgo\n",
        "#  School of Information Technology\n",
        "#  Carleton University\n",
        "#  Ottawa, Canada\n",
        "#  wilfredotovarhidalgo@cmail.carleton.ca\n",
        "\n",
        "#Importing the libraries required\n",
        "\n",
        "import math\n",
        "import pandas_datareader as web\n",
        "import numpy as np\n",
        "import pandas as pd\n",
        "from sklearn.preprocessing import MinMaxScaler\n",
        "from keras.models import Sequential\n",
        "from keras.layers import Dense, LSTM\n",
        "import matplotlib.pyplot as plt\n",
        "plt.style.use('fivethirtyeight')"
      ],
      "execution_count": 1,
      "outputs": [
        {
          "output_type": "stream",
          "text": [
            "/usr/local/lib/python3.6/dist-packages/pandas_datareader/compat/__init__.py:7: FutureWarning: pandas.util.testing is deprecated. Use the functions in the public API at pandas.testing instead.\n",
            "  from pandas.util.testing import assert_frame_equal\n",
            "Using TensorFlow backend.\n"
          ],
          "name": "stderr"
        }
      ]
    },
    {
      "cell_type": "code",
      "metadata": {
        "id": "mx83F3eUuFZI",
        "colab_type": "code",
        "colab": {
          "base_uri": "https://localhost:8080/",
          "height": 431
        },
        "outputId": "5a98faf7-f08b-4573-e4f9-358c39990444"
      },
      "source": [
        "#Employing stock results from January, 2012 to July, 2018.\n",
        "df = web.DataReader('AAPL', data_source='yahoo', start='2012-01-01', end='2018-07-01') \n",
        "#Show the data \n",
        "df"
      ],
      "execution_count": 2,
      "outputs": [
        {
          "output_type": "execute_result",
          "data": {
            "text/html": [
              "<div>\n",
              "<style scoped>\n",
              "    .dataframe tbody tr th:only-of-type {\n",
              "        vertical-align: middle;\n",
              "    }\n",
              "\n",
              "    .dataframe tbody tr th {\n",
              "        vertical-align: top;\n",
              "    }\n",
              "\n",
              "    .dataframe thead th {\n",
              "        text-align: right;\n",
              "    }\n",
              "</style>\n",
              "<table border=\"1\" class=\"dataframe\">\n",
              "  <thead>\n",
              "    <tr style=\"text-align: right;\">\n",
              "      <th></th>\n",
              "      <th>High</th>\n",
              "      <th>Low</th>\n",
              "      <th>Open</th>\n",
              "      <th>Close</th>\n",
              "      <th>Volume</th>\n",
              "      <th>Adj Close</th>\n",
              "    </tr>\n",
              "    <tr>\n",
              "      <th>Date</th>\n",
              "      <th></th>\n",
              "      <th></th>\n",
              "      <th></th>\n",
              "      <th></th>\n",
              "      <th></th>\n",
              "      <th></th>\n",
              "    </tr>\n",
              "  </thead>\n",
              "  <tbody>\n",
              "    <tr>\n",
              "      <th>2012-01-03</th>\n",
              "      <td>58.928570</td>\n",
              "      <td>58.428570</td>\n",
              "      <td>58.485714</td>\n",
              "      <td>58.747143</td>\n",
              "      <td>75555200.0</td>\n",
              "      <td>50.994907</td>\n",
              "    </tr>\n",
              "    <tr>\n",
              "      <th>2012-01-04</th>\n",
              "      <td>59.240002</td>\n",
              "      <td>58.468571</td>\n",
              "      <td>58.571430</td>\n",
              "      <td>59.062859</td>\n",
              "      <td>65005500.0</td>\n",
              "      <td>51.268970</td>\n",
              "    </tr>\n",
              "    <tr>\n",
              "      <th>2012-01-05</th>\n",
              "      <td>59.792858</td>\n",
              "      <td>58.952858</td>\n",
              "      <td>59.278572</td>\n",
              "      <td>59.718571</td>\n",
              "      <td>67817400.0</td>\n",
              "      <td>51.838169</td>\n",
              "    </tr>\n",
              "    <tr>\n",
              "      <th>2012-01-06</th>\n",
              "      <td>60.392857</td>\n",
              "      <td>59.888573</td>\n",
              "      <td>59.967144</td>\n",
              "      <td>60.342857</td>\n",
              "      <td>79573200.0</td>\n",
              "      <td>52.380054</td>\n",
              "    </tr>\n",
              "    <tr>\n",
              "      <th>2012-01-09</th>\n",
              "      <td>61.107143</td>\n",
              "      <td>60.192856</td>\n",
              "      <td>60.785713</td>\n",
              "      <td>60.247143</td>\n",
              "      <td>98506100.0</td>\n",
              "      <td>52.296970</td>\n",
              "    </tr>\n",
              "    <tr>\n",
              "      <th>...</th>\n",
              "      <td>...</td>\n",
              "      <td>...</td>\n",
              "      <td>...</td>\n",
              "      <td>...</td>\n",
              "      <td>...</td>\n",
              "      <td>...</td>\n",
              "    </tr>\n",
              "    <tr>\n",
              "      <th>2018-06-25</th>\n",
              "      <td>184.919998</td>\n",
              "      <td>180.729996</td>\n",
              "      <td>183.399994</td>\n",
              "      <td>182.169998</td>\n",
              "      <td>31663100.0</td>\n",
              "      <td>177.802338</td>\n",
              "    </tr>\n",
              "    <tr>\n",
              "      <th>2018-06-26</th>\n",
              "      <td>186.529999</td>\n",
              "      <td>182.539993</td>\n",
              "      <td>182.990005</td>\n",
              "      <td>184.429993</td>\n",
              "      <td>24569200.0</td>\n",
              "      <td>180.008163</td>\n",
              "    </tr>\n",
              "    <tr>\n",
              "      <th>2018-06-27</th>\n",
              "      <td>187.279999</td>\n",
              "      <td>184.029999</td>\n",
              "      <td>185.229996</td>\n",
              "      <td>184.160004</td>\n",
              "      <td>25285300.0</td>\n",
              "      <td>179.744629</td>\n",
              "    </tr>\n",
              "    <tr>\n",
              "      <th>2018-06-28</th>\n",
              "      <td>186.210007</td>\n",
              "      <td>183.800003</td>\n",
              "      <td>184.100006</td>\n",
              "      <td>185.500000</td>\n",
              "      <td>17365200.0</td>\n",
              "      <td>181.052505</td>\n",
              "    </tr>\n",
              "    <tr>\n",
              "      <th>2018-06-29</th>\n",
              "      <td>187.190002</td>\n",
              "      <td>182.910004</td>\n",
              "      <td>186.289993</td>\n",
              "      <td>185.110001</td>\n",
              "      <td>22737700.0</td>\n",
              "      <td>180.671844</td>\n",
              "    </tr>\n",
              "  </tbody>\n",
              "</table>\n",
              "<p>1634 rows × 6 columns</p>\n",
              "</div>"
            ],
            "text/plain": [
              "                  High         Low  ...      Volume   Adj Close\n",
              "Date                                ...                        \n",
              "2012-01-03   58.928570   58.428570  ...  75555200.0   50.994907\n",
              "2012-01-04   59.240002   58.468571  ...  65005500.0   51.268970\n",
              "2012-01-05   59.792858   58.952858  ...  67817400.0   51.838169\n",
              "2012-01-06   60.392857   59.888573  ...  79573200.0   52.380054\n",
              "2012-01-09   61.107143   60.192856  ...  98506100.0   52.296970\n",
              "...                ...         ...  ...         ...         ...\n",
              "2018-06-25  184.919998  180.729996  ...  31663100.0  177.802338\n",
              "2018-06-26  186.529999  182.539993  ...  24569200.0  180.008163\n",
              "2018-06-27  187.279999  184.029999  ...  25285300.0  179.744629\n",
              "2018-06-28  186.210007  183.800003  ...  17365200.0  181.052505\n",
              "2018-06-29  187.190002  182.910004  ...  22737700.0  180.671844\n",
              "\n",
              "[1634 rows x 6 columns]"
            ]
          },
          "metadata": {
            "tags": []
          },
          "execution_count": 2
        }
      ]
    },
    {
      "cell_type": "code",
      "metadata": {
        "id": "9GiWgitLu6JE",
        "colab_type": "code",
        "colab": {
          "base_uri": "https://localhost:8080/",
          "height": 34
        },
        "outputId": "acf9ea87-e125-4d3a-e1bc-85bf982787ba"
      },
      "source": [
        "#Illustration of dataset\n",
        "df.shape"
      ],
      "execution_count": 3,
      "outputs": [
        {
          "output_type": "execute_result",
          "data": {
            "text/plain": [
              "(1634, 6)"
            ]
          },
          "metadata": {
            "tags": []
          },
          "execution_count": 3
        }
      ]
    },
    {
      "cell_type": "code",
      "metadata": {
        "id": "-3ejF2CfvGFp",
        "colab_type": "code",
        "colab": {
          "base_uri": "https://localhost:8080/",
          "height": 405
        },
        "outputId": "088ae174-7150-4418-f2d7-29380a49d387"
      },
      "source": [
        "#Visualization the closing price records\n",
        "plt.figure(figsize=(12,6))\n",
        "plt.title('Close Price History')\n",
        "plt.plot(df['Close'])\n",
        "plt.xlabel('Date',fontsize=12)\n",
        "plt.ylabel('Price in CAD $ Canadian Dollar',fontsize=12)\n",
        "plt.show()\n",
        "#PROFESSOR HERE YOU CAN SEE THE CLOSING PRICES, IT MIUCH MORE BETTER USE DATA FROM PREVIOUS YEARS SINCE IN 2020 THE MARKET HAD TO STOP DUE TO SEVERAL CRISIS"
      ],
      "execution_count": 4,
      "outputs": [
        {
          "output_type": "display_data",
          "data": {
            "image/png": "[encoded data removed]",
            "text/plain": [
              "<Figure size 864x432 with 1 Axes>"
            ]
          },
          "metadata": {
            "tags": [],
            "needs_background": "light"
          }
        }
      ]
    },
    {
      "cell_type": "code",
      "metadata": {
        "id": "VYGJb0THvu6W",
        "colab_type": "code",
        "colab": {
          "base_uri": "https://localhost:8080/",
          "height": 34
        },
        "outputId": "62423729-8ddb-46e3-fab5-f4e4556c0a61"
      },
      "source": [
        "#Produce a new dataframe\n",
        "data = df.filter(['Close'])\n",
        "\n",
        "#Transforming the dataframe to a numpy array\n",
        "# TIMESSCONVERSION()\n",
        "dataset = data.values\n",
        "\n",
        "#Obtain/Estimate the amount of rows to train the model\n",
        "training_data_len = math.ceil(len(dataset) *.8)\n",
        "training_data_len"
      ],
      "execution_count": 5,
      "outputs": [
        {
          "output_type": "execute_result",
          "data": {
            "text/plain": [
              "1308"
            ]
          },
          "metadata": {
            "tags": []
          },
          "execution_count": 5
        }
      ]
    },
    {
      "cell_type": "code",
      "metadata": {
        "id": "_2ObE603xy9V",
        "colab_type": "code",
        "colab": {
          "base_uri": "https://localhost:8080/",
          "height": 134
        },
        "outputId": "5e2f5dc8-3d0d-45bc-f388-78870a1e7886"
      },
      "source": [
        "#Scale the all of the data\n",
        "TIMESSCONVERSION = MinMaxScaler(feature_range=(0, 1))\n",
        "scaled_data = TIMESSCONVERSION.fit_transform(dataset)\n",
        "scaled_data\n",
        "#**********PROFESSOR AS YOU CAN SEE HERE IT HAVE TO SHOWS A RANGE OF VALUES BETWEEN 0 TO 1************"
      ],
      "execution_count": 6,
      "outputs": [
        {
          "output_type": "execute_result",
          "data": {
            "text/plain": [
              "array([[0.0213991 ],\n",
              "       [0.02368375],\n",
              "       [0.02842876],\n",
              "       ...,\n",
              "       [0.92893847],\n",
              "       [0.93863524],\n",
              "       [0.93581304]])"
            ]
          },
          "metadata": {
            "tags": []
          },
          "execution_count": 6
        }
      ]
    },
    {
      "cell_type": "code",
      "metadata": {
        "id": "r1B3yLrQz3Vd",
        "colab_type": "code",
        "colab": {
          "base_uri": "https://localhost:8080/",
          "height": 370
        },
        "outputId": "61b6a865-a86e-4e9a-afab-b1d57e4495ab"
      },
      "source": [
        "#Create the scaled training data set\n",
        "train_data = scaled_data[0:training_data_len  , : ]\n",
        "#NTIMESTEPS Split the data into x_train and y_train data sets\n",
        "x_train=[]\n",
        "y_train = []\n",
        "for i in range(30,len(train_data)):\n",
        "    x_train.append(train_data[i-30:i,0])\n",
        "    y_train.append(train_data[i,0])\n",
        "    if i<= 31:\n",
        "        print(x_train)\n",
        "        print(y_train)\n",
        "        print()"
      ],
      "execution_count": 10,
      "outputs": [
        {
          "output_type": "stream",
          "text": [
            "[array([0.0213991 , 0.02368375, 0.02842876, 0.03294635, 0.03225372,\n",
            "       0.03381472, 0.03310141, 0.03190223, 0.03026889, 0.03532403,\n",
            "       0.03988298, 0.03847704, 0.03077544, 0.03812555, 0.03088914,\n",
            "       0.05802569, 0.05592712, 0.05866665, 0.06459015, 0.06817733,\n",
            "       0.06787754, 0.06677142, 0.07148543, 0.07592029, 0.08094446,\n",
            "       0.08905959, 0.1061065 , 0.10636494, 0.115855  , 0.12294666])]\n",
            "[0.1107584515050346]\n",
            "\n",
            "[array([0.0213991 , 0.02368375, 0.02842876, 0.03294635, 0.03225372,\n",
            "       0.03381472, 0.03310141, 0.03190223, 0.03026889, 0.03532403,\n",
            "       0.03988298, 0.03847704, 0.03077544, 0.03812555, 0.03088914,\n",
            "       0.05802569, 0.05592712, 0.05866665, 0.06459015, 0.06817733,\n",
            "       0.06787754, 0.06677142, 0.07148543, 0.07592029, 0.08094446,\n",
            "       0.08905959, 0.1061065 , 0.10636494, 0.115855  , 0.12294666]), array([0.02368375, 0.02842876, 0.03294635, 0.03225372, 0.03381472,\n",
            "       0.03310141, 0.03190223, 0.03026889, 0.03532403, 0.03988298,\n",
            "       0.03847704, 0.03077544, 0.03812555, 0.03088914, 0.05802569,\n",
            "       0.05592712, 0.05866665, 0.06459015, 0.06817733, 0.06787754,\n",
            "       0.06677142, 0.07148543, 0.07592029, 0.08094446, 0.08905959,\n",
            "       0.1061065 , 0.10636494, 0.115855  , 0.12294666, 0.11075845])]\n",
            "[0.1107584515050346, 0.11545180741682737]\n",
            "\n"
          ],
          "name": "stdout"
        }
      ]
    },
    {
      "cell_type": "code",
      "metadata": {
        "id": "Nt6PjqdN4vj2",
        "colab_type": "code",
        "colab": {}
      },
      "source": [
        "#Convert x_train and y_train to numpy arrays\n",
        "#Training\n",
        "x_train, y_train = np.array(x_train), np.array(y_train)"
      ],
      "execution_count": 0,
      "outputs": []
    },
    {
      "cell_type": "code",
      "metadata": {
        "id": "2lv2VEki43wb",
        "colab_type": "code",
        "colab": {
          "base_uri": "https://localhost:8080/",
          "height": 34
        },
        "outputId": "8e88cba1-bcb5-48db-a622-00a9a3e88d72"
      },
      "source": [
        "#Reshape the data into the shape accepted by the LSTM\n",
        "#WE NEED THIS BECAUSE LSTM EXPECT THE INPUT BE 3 DIMENSIONAL AND X_TRAIN IS TWO DIMENSIONAL\n",
        "x_train = np.reshape(x_train, (x_train.shape[0],x_train.shape[1],1))\n",
        "x_train.shape\n",
        "#********Professor here below you can see one the transformation from a bidimentional data set to threedimentional******"
      ],
      "execution_count": 46,
      "outputs": [
        {
          "output_type": "execute_result",
          "data": {
            "text/plain": [
              "(1278, 30, 1)"
            ]
          },
          "metadata": {
            "tags": []
          },
          "execution_count": 46
        }
      ]
    },
    {
      "cell_type": "code",
      "metadata": {
        "id": "OlXGR_w76Hsk",
        "colab_type": "code",
        "colab": {}
      },
      "source": [
        "#Building my model the LSTM network model: here you can see the LAYERS\n",
        "model = Sequential()\n",
        "model.add(LSTM(units=20, return_sequences=True, input_shape= (x_train.shape[1],1))) #THESE ARE THE LAYERS\n",
        "model.add(LSTM(units=20, return_sequences=False))\n",
        "model.add(Dense(units=15))\n",
        "model.add(Dense(units=1))"
      ],
      "execution_count": 0,
      "outputs": []
    },
    {
      "cell_type": "code",
      "metadata": {
        "id": "mz-elbaz7eRA",
        "colab_type": "code",
        "colab": {}
      },
      "source": [
        "#Compile the model\n",
        "model.compile(optimizer='adam', loss='mean_squared_error')"
      ],
      "execution_count": 0,
      "outputs": []
    },
    {
      "cell_type": "code",
      "metadata": {
        "id": "oE6luVxJ7ziL",
        "colab_type": "code",
        "colab": {
          "base_uri": "https://localhost:8080/",
          "height": 67
        },
        "outputId": "7a5cd3e4-3beb-463a-c649-e1751211ec0b"
      },
      "source": [
        "#Train the model\n",
        "#Professor this is the training process it may take time depending of the information that we use.\n",
        "model.fit(x_train, y_train, batch_size=1, epochs=1)"
      ],
      "execution_count": 31,
      "outputs": [
        {
          "output_type": "stream",
          "text": [
            "Epoch 1/1\n",
            "1278/1278 [==============================] - 25s 20ms/step - loss: 0.0015\n"
          ],
          "name": "stdout"
        },
        {
          "output_type": "execute_result",
          "data": {
            "text/plain": [
              "<keras.callbacks.callbacks.History at 0x7f3c6c151780>"
            ]
          },
          "metadata": {
            "tags": []
          },
          "execution_count": 31
        }
      ]
    },
    {
      "cell_type": "code",
      "metadata": {
        "id": "FeHIYgZp8amu",
        "colab_type": "code",
        "colab": {}
      },
      "source": [
        "#Formation of Testing data set\n",
        "#It will be the scaling testing data set \n",
        "test_data = scaled_data[training_data_len - 30: , : ]\n",
        "#Create the x_test and y_test data sets\n",
        "x_test = []\n",
        "y_test =  dataset[training_data_len : , : ]\n",
        "for i in range(30,len(test_data)):\n",
        "    x_test.append(test_data[i-30:i,0])"
      ],
      "execution_count": 0,
      "outputs": []
    },
    {
      "cell_type": "code",
      "metadata": {
        "id": "GTOwTFRZ9_ov",
        "colab_type": "code",
        "colab": {}
      },
      "source": [
        "#ADDITION REFINED TO BI-LSTM\n",
        "\n",
        "#Convert x_test to a numpy array\n",
        "x_test = np.array(x_test)"
      ],
      "execution_count": 0,
      "outputs": []
    },
    {
      "cell_type": "code",
      "metadata": {
        "id": "461rZt9y-PMu",
        "colab_type": "code",
        "colab": {
          "base_uri": "https://localhost:8080/",
          "height": 840
        },
        "outputId": "07702025-1f4e-4a02-b1a2-7c8c09f4a9b8"
      },
      "source": [
        "#Reshape the data into the shape accepted by the LSTM\n",
        "#Professor AGAIN I had to reshape the data from bi to three dimensional to be supported by LSTM\n",
        "x_test = np.reshape(x_test, (x_test.shape[0],x_test.shape[1],1))\n"
      ],
      "execution_count": 71,
      "outputs": [
        {
          "output_type": "execute_result",
          "data": {
            "text/plain": [
              "array([[[0.52796875],\n",
              "        [0.52637673],\n",
              "        [0.53035678],\n",
              "        ...,\n",
              "        [0.60358926],\n",
              "        [0.60206967],\n",
              "        [0.61270721]],\n",
              "\n",
              "       [[0.52637673],\n",
              "        [0.53035678],\n",
              "        [0.53911278],\n",
              "        ...,\n",
              "        [0.60206967],\n",
              "        [0.61270721],\n",
              "        [0.61437155]],\n",
              "\n",
              "       [[0.53035678],\n",
              "        [0.53911278],\n",
              "        [0.54808597],\n",
              "        ...,\n",
              "        [0.61270721],\n",
              "        [0.61437155],\n",
              "        [0.60930608]],\n",
              "\n",
              "       ...,\n",
              "\n",
              "       [[0.94543749],\n",
              "        [0.95802878],\n",
              "        [0.94941754],\n",
              "        ...,\n",
              "        [0.93443811],\n",
              "        [0.91453797],\n",
              "        [0.93089223]],\n",
              "\n",
              "       [[0.95802878],\n",
              "        [0.94941754],\n",
              "        [0.94449672],\n",
              "        ...,\n",
              "        [0.91453797],\n",
              "        [0.93089223],\n",
              "        [0.92893847]],\n",
              "\n",
              "       [[0.94941754],\n",
              "        [0.94449672],\n",
              "        [0.95404884],\n",
              "        ...,\n",
              "        [0.93089223],\n",
              "        [0.92893847],\n",
              "        [0.93863524]]])"
            ]
          },
          "metadata": {
            "tags": []
          },
          "execution_count": 71
        }
      ]
    },
    {
      "cell_type": "code",
      "metadata": {
        "id": "Ndrc3XQSEfdT",
        "colab_type": "code",
        "colab": {}
      },
      "source": [
        "#Getting the models predicted price values\n",
        "#Professor to be clear: Here what i want is to obtain PREDICTIONS TO CONTAIN THE SAME VALUES AS A WIDE DATA SET, \n",
        "# So It can predict on short time price and not only for time series like the traditional alg do. \n",
        "forecasts = model.predict(x_test)\n",
        "forecasts = TIMESSCONVERSION.inverse_transform(forecasts) #Undo scaling"
      ],
      "execution_count": 0,
      "outputs": []
    },
    {
      "cell_type": "code",
      "metadata": {
        "id": "c--AGFEQF21o",
        "colab_type": "code",
        "colab": {
          "base_uri": "https://localhost:8080/",
          "height": 34
        },
        "outputId": "f9fdec8c-e7ea-4698-d749-60536ee52ac4"
      },
      "source": [
        "#Calculate and Obtain the value\n",
        "#Obtaining the root squared error\n",
        "#So the value is pretty descent for prediction\n",
        "rmse =np.sqrt(np.mean(((forecasts- y_test)**2)))\n",
        "rmse"
      ],
      "execution_count": 75,
      "outputs": [
        {
          "output_type": "execute_result",
          "data": {
            "text/plain": [
              "4.900518000764901"
            ]
          },
          "metadata": {
            "tags": []
          },
          "execution_count": 75
        }
      ]
    },
    {
      "cell_type": "code",
      "metadata": {
        "id": "824zAT5sKLeD",
        "colab_type": "code",
        "colab": {
          "base_uri": "https://localhost:8080/",
          "height": 619
        },
        "outputId": "7ff18397-3d58-46f8-adce-fb1b4a944f32"
      },
      "source": [
        "#Plot/Create the data for the graph\n",
        "train = data[:training_data_len]\n",
        "valid = data[training_data_len:]\n",
        "valid['forecasts'] = forecasts\n",
        "\n",
        "#Visualize the data\n",
        "plt.figure(figsize=(16,8))\n",
        "plt.title('Model')\n",
        "plt.xlabel('Date', fontsize=18)\n",
        "plt.ylabel('Close price Canadian Dollar', fontsize=18)\n",
        "plt.plot(train['Close'])\n",
        "plt.plot(valid[['Close', 'forecasts']])\n",
        "plt.legend(['Train', 'Val', 'forecasts'], loc='lower right')\n",
        "plt.show()"
      ],
      "execution_count": 82,
      "outputs": [
        {
          "output_type": "stream",
          "text": [
            "/usr/local/lib/python3.6/dist-packages/ipykernel_launcher.py:3: SettingWithCopyWarning: \n",
            "A value is trying to be set on a copy of a slice from a DataFrame.\n",
            "Try using .loc[row_indexer,col_indexer] = value instead\n",
            "\n",
            "See the caveats in the documentation: https://pandas.pydata.org/pandas-docs/stable/user_guide/indexing.html#returning-a-view-versus-a-copy\n",
            "  This is separate from the ipykernel package so we can avoid doing imports until\n"
          ],
          "name": "stderr"
        },
        {
          "output_type": "display_data",
          "data": {
            "image/png": "[encoded data removed]",
            "text/plain": [
              "<Figure size 1152x576 with 1 Axes>"
            ]
          },
          "metadata": {
            "tags": [],
            "needs_background": "light"
          }
        }
      ]
    },
    {
      "cell_type": "code",
      "metadata": {
        "id": "ri93apExLQCv",
        "colab_type": "code",
        "colab": {
          "base_uri": "https://localhost:8080/",
          "height": 431
        },
        "outputId": "d56a537b-002e-4030-979b-cae5bd95dc44"
      },
      "source": [
        "#Illustrate the valid and predicted prices\n",
        "valid"
      ],
      "execution_count": 83,
      "outputs": [
        {
          "output_type": "execute_result",
          "data": {
            "text/html": [
              "<div>\n",
              "<style scoped>\n",
              "    .dataframe tbody tr th:only-of-type {\n",
              "        vertical-align: middle;\n",
              "    }\n",
              "\n",
              "    .dataframe tbody tr th {\n",
              "        vertical-align: top;\n",
              "    }\n",
              "\n",
              "    .dataframe thead th {\n",
              "        text-align: right;\n",
              "    }\n",
              "</style>\n",
              "<table border=\"1\" class=\"dataframe\">\n",
              "  <thead>\n",
              "    <tr style=\"text-align: right;\">\n",
              "      <th></th>\n",
              "      <th>Close</th>\n",
              "      <th>forecasts</th>\n",
              "    </tr>\n",
              "    <tr>\n",
              "      <th>Date</th>\n",
              "      <th></th>\n",
              "      <th></th>\n",
              "    </tr>\n",
              "  </thead>\n",
              "  <tbody>\n",
              "    <tr>\n",
              "      <th>2017-03-16</th>\n",
              "      <td>140.690002</td>\n",
              "      <td>142.533005</td>\n",
              "    </tr>\n",
              "    <tr>\n",
              "      <th>2017-03-17</th>\n",
              "      <td>139.990005</td>\n",
              "      <td>142.710434</td>\n",
              "    </tr>\n",
              "    <tr>\n",
              "      <th>2017-03-20</th>\n",
              "      <td>141.460007</td>\n",
              "      <td>142.857574</td>\n",
              "    </tr>\n",
              "    <tr>\n",
              "      <th>2017-03-21</th>\n",
              "      <td>139.839996</td>\n",
              "      <td>143.089111</td>\n",
              "    </tr>\n",
              "    <tr>\n",
              "      <th>2017-03-22</th>\n",
              "      <td>141.419998</td>\n",
              "      <td>143.230423</td>\n",
              "    </tr>\n",
              "    <tr>\n",
              "      <th>...</th>\n",
              "      <td>...</td>\n",
              "      <td>...</td>\n",
              "    </tr>\n",
              "    <tr>\n",
              "      <th>2018-06-25</th>\n",
              "      <td>182.169998</td>\n",
              "      <td>189.583786</td>\n",
              "    </tr>\n",
              "    <tr>\n",
              "      <th>2018-06-26</th>\n",
              "      <td>184.429993</td>\n",
              "      <td>188.634552</td>\n",
              "    </tr>\n",
              "    <tr>\n",
              "      <th>2018-06-27</th>\n",
              "      <td>184.160004</td>\n",
              "      <td>187.847290</td>\n",
              "    </tr>\n",
              "    <tr>\n",
              "      <th>2018-06-28</th>\n",
              "      <td>185.500000</td>\n",
              "      <td>187.172989</td>\n",
              "    </tr>\n",
              "    <tr>\n",
              "      <th>2018-06-29</th>\n",
              "      <td>185.110001</td>\n",
              "      <td>186.728271</td>\n",
              "    </tr>\n",
              "  </tbody>\n",
              "</table>\n",
              "<p>326 rows × 2 columns</p>\n",
              "</div>"
            ],
            "text/plain": [
              "                 Close   forecasts\n",
              "Date                              \n",
              "2017-03-16  140.690002  142.533005\n",
              "2017-03-17  139.990005  142.710434\n",
              "2017-03-20  141.460007  142.857574\n",
              "2017-03-21  139.839996  143.089111\n",
              "2017-03-22  141.419998  143.230423\n",
              "...                ...         ...\n",
              "2018-06-25  182.169998  189.583786\n",
              "2018-06-26  184.429993  188.634552\n",
              "2018-06-27  184.160004  187.847290\n",
              "2018-06-28  185.500000  187.172989\n",
              "2018-06-29  185.110001  186.728271\n",
              "\n",
              "[326 rows x 2 columns]"
            ]
          },
          "metadata": {
            "tags": []
          },
          "execution_count": 83
        }
      ]
    }
  ]
}
